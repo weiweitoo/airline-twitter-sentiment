{
  "nbformat": 4,
  "nbformat_minor": 0,
  "metadata": {
    "colab": {
      "name": "model",
      "provenance": [],
      "collapsed_sections": [],
      "toc_visible": true,
      "include_colab_link": true
    },
    "kernelspec": {
      "display_name": "Python 3",
      "name": "python3"
    }
  },
  "cells": [
    {
      "cell_type": "markdown",
      "metadata": {
        "id": "view-in-github",
        "colab_type": "text"
      },
      "source": [
        "<a href=\"https://colab.research.google.com/github/weiweitoo/airline-twitter-sentiment/blob/master/model.ipynb\" target=\"_parent\"><img src=\"https://colab.research.google.com/assets/colab-badge.svg\" alt=\"Open In Colab\"/></a>"
      ]
    },
    {
      "cell_type": "markdown",
      "metadata": {
        "id": "Zjab0JWkeGIt",
        "colab_type": "text"
      },
      "source": [
        "[![Open In Colab](https://colab.research.google.com/assets/colab-badge.svg)](https://colab.research.google.com/github/googlecolab/colabtools/blob/master/notebooks/colab-github-demo.ipynb)"
      ]
    },
    {
      "cell_type": "markdown",
      "metadata": {
        "id": "A2tBSWD_-JoT",
        "colab_type": "text"
      },
      "source": [
        "# Fellowship.ai Challenge: ULMFiT applied to the Twitter US Airline Sentiment dataset"
      ]
    },
    {
      "cell_type": "markdown",
      "metadata": {
        "id": "zrWGKDJb-PAx",
        "colab_type": "text"
      },
      "source": [
        "# Abstract"
      ]
    },
    {
      "cell_type": "markdown",
      "metadata": {
        "colab_type": "text",
        "id": "k4a1Z93U-cuR"
      },
      "source": [
        "# Introduction"
      ]
    },
    {
      "cell_type": "markdown",
      "metadata": {
        "id": "i81P3om19ywr",
        "colab_type": "text"
      },
      "source": [
        "- There are 4 challenge is elected for this challenge set. 3 of them are computer vision related. Only the last one is NLP, which is the field that i am interested in. \n",
        "- Recent trend in NLP task, it is going towards transfer-learning from those pretraining like ULMFiT, BERT, XLNet and RoBERTo. This became a very important concept in NLP field, especially for language modeling or classification task.\n"
      ]
    },
    {
      "cell_type": "markdown",
      "metadata": {
        "id": "fJM3DBso58dI",
        "colab_type": "text"
      },
      "source": [
        "# Related work"
      ]
    },
    {
      "cell_type": "markdown",
      "metadata": {
        "id": "-0id6INu6E7M",
        "colab_type": "text"
      },
      "source": [
        "Twitter US Airline Dataset is a popular dataset in Kaggle for various task such as Sentiment Analysis and Visualization. Both of the following benchmark train and evaluate under class imbalance situation(Accuracy is not precise when class is imbalance)\n",
        "\n",
        "[Benchmark](https://www.kaggle.com/davidbankom/twitter-us-airlines-sentiment-with-ulmfit-approach): Accuracy 82.78 using ULMFiT\n",
        "\n",
        "[Benchmark](https://www.kaggle.com/neoyipeng2018/bert-using-fastai): Accuracy 86.99 using BERT"
      ]
    },
    {
      "cell_type": "markdown",
      "metadata": {
        "id": "NEhQkLgc_QcC",
        "colab_type": "text"
      },
      "source": [
        "# Model"
      ]
    },
    {
      "cell_type": "markdown",
      "metadata": {
        "id": "7FaLQztkiRIl",
        "colab_type": "text"
      },
      "source": [
        "## Setup"
      ]
    },
    {
      "cell_type": "code",
      "metadata": {
        "id": "AFaoGU6g0jNn",
        "colab_type": "code",
        "colab": {}
      },
      "source": [
        "from google.colab import drive"
      ],
      "execution_count": 0,
      "outputs": []
    },
    {
      "cell_type": "code",
      "metadata": {
        "id": "2lsXt_DK0zwy",
        "colab_type": "code",
        "colab": {}
      },
      "source": [
        "# !pip install torch_nightly -f https://download.pytorch.org/whl/nightly/cu92/torch_nightly.html\n",
        "# !pip install fastai"
      ],
      "execution_count": 0,
      "outputs": []
    },
    {
      "cell_type": "code",
      "metadata": {
        "colab_type": "code",
        "id": "3VQqVi-3ScBC",
        "outputId": "e67f5fdb-9d0f-40b3-b5c6-9be50f4b58b4",
        "colab": {
          "base_uri": "https://localhost:8080/",
          "height": 107
        }
      },
      "source": [
        "import fastai\n",
        "from fastai import *\n",
        "from fastai.text import * \n",
        "import pandas as pd\n",
        "import numpy as np\n",
        "from functools import partial\n",
        "import io\n",
        "import os\n",
        "import matplotlib.pyplot as plt\n",
        "from sklearn.model_selection import train_test_split\n",
        "\n",
        "import nltk\n",
        "from nltk import word_tokenize\n",
        "from nltk.corpus import wordnet\n",
        "from nltk.corpus import stopwords\n",
        "nltk.download('stopwords')\n",
        "nltk.download('wordnet')"
      ],
      "execution_count": 0,
      "outputs": [
        {
          "output_type": "stream",
          "text": [
            "[nltk_data] Downloading package stopwords to /root/nltk_data...\n",
            "[nltk_data]   Package stopwords is already up-to-date!\n",
            "[nltk_data] Downloading package wordnet to /root/nltk_data...\n",
            "[nltk_data]   Package wordnet is already up-to-date!\n"
          ],
          "name": "stdout"
        },
        {
          "output_type": "execute_result",
          "data": {
            "text/plain": [
              "True"
            ]
          },
          "metadata": {
            "tags": []
          },
          "execution_count": 3
        }
      ]
    },
    {
      "cell_type": "code",
      "metadata": {
        "id": "6fjSeo7p0sOx",
        "colab_type": "code",
        "colab": {}
      },
      "source": [
        "root_path = \"drive/My Drive/Colab Notebooks/AirlineTweetSentiment\"\n",
        "df = pd.read_csv(root_path + \"/Tweets.csv\")"
      ],
      "execution_count": 0,
      "outputs": []
    },
    {
      "cell_type": "markdown",
      "metadata": {
        "id": "8_zqXJo3iM1z",
        "colab_type": "text"
      },
      "source": [
        "## Utils"
      ]
    },
    {
      "cell_type": "code",
      "metadata": {
        "id": "ID7zI6bmiEQj",
        "colab_type": "code",
        "colab": {}
      },
      "source": [
        "def plot_bar(dictionary, title):\n",
        "  plt.title(title)\n",
        "  bar_plot = plt.bar(range(len(dictionary)), list(dictionary.values()), align='center')\n",
        "  plt.xticks(range(len(dictionary)), list(dictionary.keys()), rotation=45)\n",
        "  plt.show()\n",
        "  return plt, bar_plot"
      ],
      "execution_count": 0,
      "outputs": []
    },
    {
      "cell_type": "code",
      "metadata": {
        "id": "GbGRxoKonaBV",
        "colab_type": "code",
        "colab": {}
      },
      "source": [
        "#stop words list\n",
        "stop_words = ['i', 'me', 'my', 'myself', 'we', 'our', \n",
        "\t\t\t'ours', 'ourselves', 'you', 'your', 'yours', \n",
        "\t\t\t'yourself', 'yourselves', 'he', 'him', 'his', \n",
        "\t\t\t'himself', 'she', 'her', 'hers', 'herself', \n",
        "\t\t\t'it', 'its', 'itself', 'they', 'them', 'their', \n",
        "\t\t\t'theirs', 'themselves', 'what', 'which', 'who', \n",
        "\t\t\t'whom', 'this', 'that', 'these', 'those', 'am', \n",
        "\t\t\t'is', 'are', 'was', 'were', 'be', 'been', 'being', \n",
        "\t\t\t'have', 'has', 'had', 'having', 'do', 'does', 'did',\n",
        "\t\t\t'doing', 'a', 'an', 'the', 'and', 'but', 'if', 'or',\n",
        "\t\t\t'because', 'as', 'until', 'while', 'of', 'at', \n",
        "\t\t\t'by', 'for', 'with', 'about', 'against', 'between',\n",
        "\t\t\t'into', 'through', 'during', 'before', 'after', \n",
        "\t\t\t'above', 'below', 'to', 'from', 'up', 'down', 'in',\n",
        "\t\t\t'out', 'on', 'off', 'over', 'under', 'again', \n",
        "\t\t\t'further', 'then', 'once', 'here', 'there', 'when', \n",
        "\t\t\t'where', 'why', 'how', 'all', 'any', 'both', 'each', \n",
        "\t\t\t'few', 'more', 'most', 'other', 'some', 'such', 'no', \n",
        "\t\t\t'nor', 'not', 'only', 'own', 'same', 'so', 'than', 'too', \n",
        "\t\t\t'very', 's', 't', 'can', 'will', 'just', 'don', \n",
        "\t\t\t'should', 'now', '']\n",
        "\n",
        "def synonym_replacement(words, n):\n",
        "\tnew_words = words\n",
        "\trandom_word_list = list(set([word for word in words if word not in stop_words]))\n",
        "\trandom.shuffle(random_word_list)\n",
        "\tnum_replaced = 0\n",
        "\tfor random_word in random_word_list:\n",
        "\t\tsynonyms = get_synonyms(random_word)\n",
        "\t\tif len(synonyms) >= 1:\n",
        "\t\t\tsynonym = random.choice(list(synonyms))\n",
        "\t\t\tnew_words = [synonym if word == random_word else word for word in new_words]\n",
        "\t\t\t#print(\"replaced\", random_word, \"with\", synonym)\n",
        "\t\t\tnum_replaced += 1\n",
        "\t\tif num_replaced >= n: #only replace up to n words\n",
        "\t\t\tbreak\n",
        "\n",
        "\t#this is stupid but we need it, trust me\n",
        "\tsentence = ' '.join(new_words)\n",
        "\tnew_words = sentence.split(' ')\n",
        " \n",
        "\treturn ' '.join(new_words)\n",
        "\n",
        "def get_synonyms(word):\n",
        "\tsynonyms = set()\n",
        "\tfor syn in wordnet.synsets(word): \n",
        "\t\tfor l in syn.lemmas(): \n",
        "\t\t\tsynonym = l.name().replace(\"_\", \" \").replace(\"-\", \" \").lower()\n",
        "\t\t\tsynonym = \"\".join([char for char in synonym if char in ' qwertyuiopasdfghjklzxcvbnm'])\n",
        "\t\t\tsynonyms.add(synonym) \n",
        "\tif word in synonyms:\n",
        "\t\tsynonyms.remove(word)\n",
        "\treturn list(synonyms)"
      ],
      "execution_count": 0,
      "outputs": []
    },
    {
      "cell_type": "code",
      "metadata": {
        "id": "wYYzdjXWnj5T",
        "colab_type": "code",
        "outputId": "91912660-f7bd-41fa-c01b-cb698ce3c869",
        "colab": {
          "base_uri": "https://localhost:8080/",
          "height": 35
        }
      },
      "source": [
        "# synonym_replacement(\"This is a very good airline service\", 2)"
      ],
      "execution_count": 0,
      "outputs": [
        {
          "output_type": "execute_result",
          "data": {
            "text/plain": [
              "'T h i s   i s   a   v e r yttrium   gib o o d   a i r l i n e   s e r v i c e'"
            ]
          },
          "metadata": {
            "tags": []
          },
          "execution_count": 19
        }
      ]
    },
    {
      "cell_type": "code",
      "metadata": {
        "id": "1yv2hy4bLSCT",
        "colab_type": "code",
        "colab": {}
      },
      "source": [
        "# def generate_sample(row, n):\n",
        "#   row['text_new'] = synonym_replacement(row['text'], n)\n",
        "#   return row"
      ],
      "execution_count": 0,
      "outputs": []
    },
    {
      "cell_type": "code",
      "metadata": {
        "id": "Nsp8_H6CMI3k",
        "colab_type": "code",
        "colab": {}
      },
      "source": [
        "# df[df['airline_sentiment'] == \"neutral\"].apply(lambda row: generate_sample(row, 4), axis=1)"
      ],
      "execution_count": 0,
      "outputs": []
    },
    {
      "cell_type": "code",
      "metadata": {
        "id": "9bcaSaaFLR9Y",
        "colab_type": "code",
        "colab": {}
      },
      "source": [
        ""
      ],
      "execution_count": 0,
      "outputs": []
    },
    {
      "cell_type": "code",
      "metadata": {
        "id": "Vdnq1XZwOawC",
        "colab_type": "code",
        "colab": {}
      },
      "source": [
        ""
      ],
      "execution_count": 0,
      "outputs": []
    },
    {
      "cell_type": "markdown",
      "metadata": {
        "id": "KxrbqZ9-hwhb",
        "colab_type": "text"
      },
      "source": [
        "## Data Preparation"
      ]
    },
    {
      "cell_type": "code",
      "metadata": {
        "id": "ALJAx0VrZrnR",
        "colab_type": "code",
        "outputId": "d7099582-13df-4144-bf16-44d45252f652",
        "colab": {
          "base_uri": "https://localhost:8080/",
          "height": 35
        }
      },
      "source": [
        "total_data_size = df.shape[0]\n",
        "print(f'Total Size :{total_data_size}')"
      ],
      "execution_count": 0,
      "outputs": [
        {
          "output_type": "stream",
          "text": [
            "Total Size :14640\n"
          ],
          "name": "stdout"
        }
      ]
    },
    {
      "cell_type": "code",
      "metadata": {
        "id": "A1Bdxg4vT6qY",
        "colab_type": "code",
        "outputId": "9c628621-309a-4372-9157-079468291318",
        "colab": {
          "base_uri": "https://localhost:8080/",
          "height": 309
        }
      },
      "source": [
        "airline_sentiment = df['airline_sentiment'].value_counts()\n",
        "plt, bar_plot = plot_bar(airline_sentiment.to_dict(), \"Sentiment Distribution\")"
      ],
      "execution_count": 0,
      "outputs": [
        {
          "output_type": "display_data",
          "data": {
            "image/png": "[encoded data removed]",
            "text/plain": [
              "<Figure size 432x288 with 1 Axes>"
            ]
          },
          "metadata": {
            "tags": []
          }
        }
      ]
    },
    {
      "cell_type": "code",
      "metadata": {
        "id": "YvAuf2eRT6oU",
        "colab_type": "code",
        "outputId": "02e41975-e671-4763-98e8-f8c85e30bb40",
        "colab": {
          "base_uri": "https://localhost:8080/",
          "height": 190
        }
      },
      "source": [
        "negative_reason = df_reason['negativereason'].value_counts().to_dict()\n",
        "plot_bar(negative_reason, \"Negative Reason Distribution\")"
      ],
      "execution_count": 0,
      "outputs": [
        {
          "output_type": "error",
          "ename": "NameError",
          "evalue": "ignored",
          "traceback": [
            "\u001b[0;31m---------------------------------------------------------------------------\u001b[0m",
            "\u001b[0;31mNameError\u001b[0m                                 Traceback (most recent call last)",
            "\u001b[0;32m<ipython-input-24-43f93d3d829a>\u001b[0m in \u001b[0;36m<module>\u001b[0;34m()\u001b[0m\n\u001b[0;32m----> 1\u001b[0;31m \u001b[0mnegative_reason\u001b[0m \u001b[0;34m=\u001b[0m \u001b[0mdf_reason\u001b[0m\u001b[0;34m[\u001b[0m\u001b[0;34m'negativereason'\u001b[0m\u001b[0;34m]\u001b[0m\u001b[0;34m.\u001b[0m\u001b[0mvalue_counts\u001b[0m\u001b[0;34m(\u001b[0m\u001b[0;34m)\u001b[0m\u001b[0;34m.\u001b[0m\u001b[0mto_dict\u001b[0m\u001b[0;34m(\u001b[0m\u001b[0;34m)\u001b[0m\u001b[0;34m\u001b[0m\u001b[0;34m\u001b[0m\u001b[0m\n\u001b[0m\u001b[1;32m      2\u001b[0m \u001b[0mplot_bar\u001b[0m\u001b[0;34m(\u001b[0m\u001b[0mnegative_reason\u001b[0m\u001b[0;34m,\u001b[0m \u001b[0;34m\"Negative Reason Distribution\"\u001b[0m\u001b[0;34m)\u001b[0m\u001b[0;34m\u001b[0m\u001b[0;34m\u001b[0m\u001b[0m\n",
            "\u001b[0;31mNameError\u001b[0m: name 'df_reason' is not defined"
          ]
        }
      ]
    },
    {
      "cell_type": "code",
      "metadata": {
        "id": "HI7lxEavSA0i",
        "colab_type": "code",
        "outputId": "27c9c35b-15b7-4eb3-bb77-8911b0e506ed",
        "colab": {
          "base_uri": "https://localhost:8080/",
          "height": 143
        }
      },
      "source": [
        "df['airline'].value_counts()"
      ],
      "execution_count": 0,
      "outputs": [
        {
          "output_type": "execute_result",
          "data": {
            "text/plain": [
              "United            3822\n",
              "US Airways        2913\n",
              "American          2759\n",
              "Southwest         2420\n",
              "Delta             2222\n",
              "Virgin America     504\n",
              "Name: airline, dtype: int64"
            ]
          },
          "metadata": {
            "tags": []
          },
          "execution_count": 25
        }
      ]
    },
    {
      "cell_type": "code",
      "metadata": {
        "id": "ZgmCIyMjQqRQ",
        "colab_type": "code",
        "outputId": "6454fc21-ca56-4b51-d724-82bc2654db4a",
        "colab": {
          "base_uri": "https://localhost:8080/",
          "height": 1000
        }
      },
      "source": [
        "airlines = ['United', 'US Airways', 'American', 'Southwest', 'Delta', 'Virgin America']\n",
        "for airline in airlines:\n",
        "  tmep = df[df['airline'] == airline]\n",
        "  negative_reason = tmep['airline_sentiment'].value_counts().to_dict()\n",
        "  plot_bar(negative_reason, f\"Sentiment Distribution - {airline}\")"
      ],
      "execution_count": 0,
      "outputs": [
        {
          "output_type": "display_data",
          "data": {
            "image/png": "[encoded data removed]",
            "text/plain": [
              "<Figure size 432x288 with 1 Axes>"
            ]
          },
          "metadata": {
            "tags": []
          }
        },
        {
          "output_type": "display_data",
          "data": {
            "image/png": "[encoded data removed]",
            "text/plain": [
              "<Figure size 432x288 with 1 Axes>"
            ]
          },
          "metadata": {
            "tags": []
          }
        },
        {
          "output_type": "display_data",
          "data": {
            "image/png": "[encoded data removed]",
            "text/plain": [
              "<Figure size 432x288 with 1 Axes>"
            ]
          },
          "metadata": {
            "tags": []
          }
        },
        {
          "output_type": "display_data",
          "data": {
            "image/png": "[encoded data removed]",
            "text/plain": [
              "<Figure size 432x288 with 1 Axes>"
            ]
          },
          "metadata": {
            "tags": []
          }
        },
        {
          "output_type": "display_data",
          "data": {
            "image/png": "[encoded data removed]",
            "text/plain": [
              "<Figure size 432x288 with 1 Axes>"
            ]
          },
          "metadata": {
            "tags": []
          }
        },
        {
          "output_type": "display_data",
          "data": {
            "image/png": "[encoded data removed]",
            "text/plain": [
              "<Figure size 432x288 with 1 Axes>"
            ]
          },
          "metadata": {
            "tags": []
          }
        }
      ]
    },
    {
      "cell_type": "code",
      "metadata": {
        "id": "vvkBm-IGREdm",
        "colab_type": "code",
        "colab": {}
      },
      "source": [
        ""
      ],
      "execution_count": 0,
      "outputs": []
    },
    {
      "cell_type": "code",
      "metadata": {
        "id": "eTXAohjcQ7Oe",
        "colab_type": "code",
        "colab": {}
      },
      "source": [
        ""
      ],
      "execution_count": 0,
      "outputs": []
    },
    {
      "cell_type": "markdown",
      "metadata": {
        "id": "zg0bHsazISUe",
        "colab_type": "text"
      },
      "source": [
        "TODO: fix class imbalance with sampling and augmentation"
      ]
    },
    {
      "cell_type": "code",
      "metadata": {
        "id": "XMw_y_8N8dTu",
        "colab_type": "code",
        "colab": {}
      },
      "source": [
        ""
      ],
      "execution_count": 0,
      "outputs": []
    },
    {
      "cell_type": "code",
      "metadata": {
        "id": "csS64b112e6-",
        "colab_type": "code",
        "colab": {}
      },
      "source": [
        ""
      ],
      "execution_count": 0,
      "outputs": []
    },
    {
      "cell_type": "code",
      "metadata": {
        "id": "cL1Xl6-q2e4M",
        "colab_type": "code",
        "colab": {}
      },
      "source": [
        ""
      ],
      "execution_count": 0,
      "outputs": []
    },
    {
      "cell_type": "markdown",
      "metadata": {
        "id": "FzN8klWQXBEL",
        "colab_type": "text"
      },
      "source": [
        "Perform neccsaary preprocessing step on the text data so that model can learn better\n",
        "- Remove username which is do not contain important information for text classification, such as @elonmusk\n",
        "- Remove website link\n",
        "- Remove unessary information like $30 or 10:30\n",
        "- Other basic preprocessing\n",
        "\n",
        "Perform word tokenization, proper word tokenization rules help model learn better. \n",
        "\n",
        "Here is the meaning of the special tokens:\n",
        "*   UNK (xxunk) is for an unknown word (one that isn't present in the current vocabulary)\n",
        "*   PAD (xxpad) is the token used for padding, if we need to regroup several texts of different lengths in a batch\n",
        "*   BOS (xxbos) represents the beginning of a text in your dataset\n",
        "*   FLD (xxfld) is used if you set mark_fields=True in your TokenizeProcessor to separate the different fields of texts (if your texts are loaded from several columns in a dataframe)\n",
        "*   TK_MAJ (xxmaj) is used to indicate the next word begins with a capital in the original text\n",
        "*   TK_UP (xxup) is used to indicate the next word is written in all caps in the original text\n",
        "*   TK_REP (xxrep) is used to indicate the next character is repeated n times in the original text (usage xxrep n {char})\n",
        "*   TK_WREP(xxwrep) is used to indicate the next word is repeated n times in the original text (usage xxwrep n {word})\n",
        "\n",
        "Refer [here](https://docs.fast.ai/text.transform.html#BaseTokenizer) for more information\n"
      ]
    },
    {
      "cell_type": "code",
      "metadata": {
        "id": "MKDP7xKe8dR7",
        "colab_type": "code",
        "colab": {}
      },
      "source": [
        "def preprocess_sentence(sentence):\n",
        "  sentence = sentence.lower().strip()\n",
        "  # remove screen_name\n",
        "  sentence = re.sub(r\"(@[a-zA-Z_]{1,})\", \" \", sentence)\n",
        "  # remove website link\n",
        "  sentence = re.sub(r\"((http://|https://|www\\.)+.{1,})\", \" \", sentence)\n",
        "  # creating a space between a word and the punctuation following it\n",
        "  # eg: \"he is a boy.\" => \"he is a boy .\"\n",
        "  sentence = re.sub(r\"([?.!,/#])\", r\" \\1 \", sentence)\n",
        "  # replacing everything with space except (a-z, A-Z, \".\", \"?\", \"!\", \",\")\n",
        "  sentence = re.sub(r\"[^a-zA-Z?.!,]+\", \" \", sentence)\n",
        "  sentence = sentence.strip()\n",
        "  return sentence"
      ],
      "execution_count": 0,
      "outputs": []
    },
    {
      "cell_type": "code",
      "metadata": {
        "id": "UK1ADCi8Ir7L",
        "colab_type": "code",
        "outputId": "eadb7a15-f9e0-4362-c453-863934ea8a7c",
        "colab": {
          "base_uri": "https://localhost:8080/",
          "height": 35
        }
      },
      "source": [
        "preprocess_sentence(\"@VirginAmerica I didn't today... Must mean I need to take another trip!\")"
      ],
      "execution_count": 0,
      "outputs": [
        {
          "output_type": "execute_result",
          "data": {
            "text/plain": [
              "'i didn t today . . . must mean i need to take another trip !'"
            ]
          },
          "metadata": {
            "tags": []
          },
          "execution_count": 28
        }
      ]
    },
    {
      "cell_type": "code",
      "metadata": {
        "id": "WLqeF6XPZdsS",
        "colab_type": "code",
        "colab": {}
      },
      "source": [
        "df['text'] = df['text'].apply(lambda row: preprocess_sentence(row))"
      ],
      "execution_count": 0,
      "outputs": []
    },
    {
      "cell_type": "markdown",
      "metadata": {
        "id": "RdhBp8D2lDRw",
        "colab_type": "text"
      },
      "source": [
        "## Sentiment Analysis Training"
      ]
    },
    {
      "cell_type": "code",
      "metadata": {
        "id": "3ozSF496_Im7",
        "colab_type": "code",
        "colab": {}
      },
      "source": [
        "def construct_input(X, y, test_size):\n",
        "  X_train, X_test, y_train, y_test = train_test_split(X, y, test_size=test_size, random_state=42)\n",
        "  col_names = ['labels','text']\n",
        "  df_trn = pd.DataFrame({'text':X_train, 'labels':y_train}, columns=col_names)\n",
        "  df_val = pd.DataFrame({'text':X_test, 'labels':y_test}, columns=col_names)\n",
        "  data_lm = TextLMDataBunch.from_df('./', train_df=df_trn, valid_df=df_val)\n",
        "  data_clas = TextClasDataBunch.from_df(path = \"./\", train_df = df_trn, valid_df = df_val, vocab=data_lm.train_ds.vocab, bs=32)\n",
        "  data_lm.save('tmp_lm')\n",
        "  data_clas.save('tmp_clas')\n",
        "  return data_lm, data_clas\n",
        "\n",
        "def learn_language_model(data_lm, lr):\n",
        "  learn = language_model_learner(data_lm, AWD_LSTM, drop_mult=0.5)\n",
        "  ## Train last layer\n",
        "  learn.freeze_to(-1)\n",
        "  learn.fit_one_cycle(1, slice(2e-3/100, lr))\n",
        "  ## Train last 2 layer\n",
        "  lr /= 2\n",
        "  learn.freeze_to(-2)\n",
        "  learn.fit_one_cycle(1, slice(2e-3/100, lr))\n",
        "  ## Train remaining of the layer\n",
        "  lr /= 2\n",
        "  learn.unfreeze()\n",
        "  learn.fit_one_cycle(2, slice(2e-3/100, lr))\n",
        "  learn.save_encoder(\"ft_enc\")\n",
        "  return learn\n",
        "\n",
        "def learn_classification_model(data_clas, lr):\n",
        "  learn = text_classifier_learner(data_clas, AWD_LSTM, drop_mult=0.5)\n",
        "  learn.load_encoder('ft_enc')\n",
        "  ## Train last layer\n",
        "  learn.freeze_to(-1)\n",
        "  learn.fit_one_cycle(1, slice(2e-3/100, lr))\n",
        "  ## Train last 2 layer\n",
        "  lr /= 2\n",
        "  learn.freeze_to(-2)\n",
        "  learn.fit_one_cycle(1, slice(2e-3/100, lr))\n",
        "  ## Train remaining of the layer\n",
        "  lr /= 2\n",
        "  learn.unfreeze()\n",
        "  learn.fit_one_cycle(2, slice(2e-3/100, lr))\n",
        "  return learn"
      ],
      "execution_count": 0,
      "outputs": []
    },
    {
      "cell_type": "code",
      "metadata": {
        "id": "YwlPlkLf_IrM",
        "colab_type": "code",
        "outputId": "29d88f8a-3084-4cfb-cc0b-864450ef4751",
        "colab": {
          "base_uri": "https://localhost:8080/",
          "height": 17
        }
      },
      "source": [
        "X = df['text']\n",
        "y = df['airline_sentiment']\n",
        "data_lm, data_clas = construct_input(X, y, 0.3)"
      ],
      "execution_count": 0,
      "outputs": [
        {
          "output_type": "display_data",
          "data": {
            "text/html": [
              ""
            ],
            "text/plain": [
              "<IPython.core.display.HTML object>"
            ]
          },
          "metadata": {
            "tags": []
          }
        },
        {
          "output_type": "display_data",
          "data": {
            "text/html": [
              ""
            ],
            "text/plain": [
              "<IPython.core.display.HTML object>"
            ]
          },
          "metadata": {
            "tags": []
          }
        },
        {
          "output_type": "display_data",
          "data": {
            "text/html": [
              ""
            ],
            "text/plain": [
              "<IPython.core.display.HTML object>"
            ]
          },
          "metadata": {
            "tags": []
          }
        },
        {
          "output_type": "display_data",
          "data": {
            "text/html": [
              ""
            ],
            "text/plain": [
              "<IPython.core.display.HTML object>"
            ]
          },
          "metadata": {
            "tags": []
          }
        }
      ]
    },
    {
      "cell_type": "code",
      "metadata": {
        "id": "XmFzanmbY5Nb",
        "colab_type": "code",
        "outputId": "b02f66fe-46cc-4619-bcbf-18437982ec54",
        "colab": {
          "base_uri": "https://localhost:8080/",
          "height": 473
        }
      },
      "source": [
        "learner_lm = learn_language_model(data_lm, 2e-3)\n",
        "learner_clas = learn_classification_model(data_clas, 2e-3)"
      ],
      "execution_count": 0,
      "outputs": [
        {
          "output_type": "display_data",
          "data": {
            "text/html": [
              "<table border=\"1\" class=\"dataframe\">\n",
              "  <thead>\n",
              "    <tr style=\"text-align: left;\">\n",
              "      <th>epoch</th>\n",
              "      <th>train_loss</th>\n",
              "      <th>valid_loss</th>\n",
              "      <th>accuracy</th>\n",
              "      <th>time</th>\n",
              "    </tr>\n",
              "  </thead>\n",
              "  <tbody>\n",
              "    <tr>\n",
              "      <td>0</td>\n",
              "      <td>6.059510</td>\n",
              "      <td>5.542489</td>\n",
              "      <td>0.138984</td>\n",
              "      <td>06:35</td>\n",
              "    </tr>\n",
              "  </tbody>\n",
              "</table>"
            ],
            "text/plain": [
              "<IPython.core.display.HTML object>"
            ]
          },
          "metadata": {
            "tags": []
          }
        },
        {
          "output_type": "display_data",
          "data": {
            "text/html": [
              "<table border=\"1\" class=\"dataframe\">\n",
              "  <thead>\n",
              "    <tr style=\"text-align: left;\">\n",
              "      <th>epoch</th>\n",
              "      <th>train_loss</th>\n",
              "      <th>valid_loss</th>\n",
              "      <th>accuracy</th>\n",
              "      <th>time</th>\n",
              "    </tr>\n",
              "  </thead>\n",
              "  <tbody>\n",
              "    <tr>\n",
              "      <td>0</td>\n",
              "      <td>5.250743</td>\n",
              "      <td>4.866812</td>\n",
              "      <td>0.186752</td>\n",
              "      <td>06:51</td>\n",
              "    </tr>\n",
              "  </tbody>\n",
              "</table>"
            ],
            "text/plain": [
              "<IPython.core.display.HTML object>"
            ]
          },
          "metadata": {
            "tags": []
          }
        },
        {
          "output_type": "display_data",
          "data": {
            "text/html": [
              "<table border=\"1\" class=\"dataframe\">\n",
              "  <thead>\n",
              "    <tr style=\"text-align: left;\">\n",
              "      <th>epoch</th>\n",
              "      <th>train_loss</th>\n",
              "      <th>valid_loss</th>\n",
              "      <th>accuracy</th>\n",
              "      <th>time</th>\n",
              "    </tr>\n",
              "  </thead>\n",
              "  <tbody>\n",
              "    <tr>\n",
              "      <td>0</td>\n",
              "      <td>4.947210</td>\n",
              "      <td>4.664583</td>\n",
              "      <td>0.206105</td>\n",
              "      <td>09:51</td>\n",
              "    </tr>\n",
              "    <tr>\n",
              "      <td>1</td>\n",
              "      <td>4.830405</td>\n",
              "      <td>4.602832</td>\n",
              "      <td>0.211674</td>\n",
              "      <td>09:49</td>\n",
              "    </tr>\n",
              "  </tbody>\n",
              "</table>"
            ],
            "text/plain": [
              "<IPython.core.display.HTML object>"
            ]
          },
          "metadata": {
            "tags": []
          }
        },
        {
          "output_type": "display_data",
          "data": {
            "text/html": [
              "<table border=\"1\" class=\"dataframe\">\n",
              "  <thead>\n",
              "    <tr style=\"text-align: left;\">\n",
              "      <th>epoch</th>\n",
              "      <th>train_loss</th>\n",
              "      <th>valid_loss</th>\n",
              "      <th>accuracy</th>\n",
              "      <th>time</th>\n",
              "    </tr>\n",
              "  </thead>\n",
              "  <tbody>\n",
              "    <tr>\n",
              "      <td>0</td>\n",
              "      <td>0.803987</td>\n",
              "      <td>0.623560</td>\n",
              "      <td>0.755464</td>\n",
              "      <td>04:26</td>\n",
              "    </tr>\n",
              "  </tbody>\n",
              "</table>"
            ],
            "text/plain": [
              "<IPython.core.display.HTML object>"
            ]
          },
          "metadata": {
            "tags": []
          }
        },
        {
          "output_type": "display_data",
          "data": {
            "text/html": [
              "<table border=\"1\" class=\"dataframe\">\n",
              "  <thead>\n",
              "    <tr style=\"text-align: left;\">\n",
              "      <th>epoch</th>\n",
              "      <th>train_loss</th>\n",
              "      <th>valid_loss</th>\n",
              "      <th>accuracy</th>\n",
              "      <th>time</th>\n",
              "    </tr>\n",
              "  </thead>\n",
              "  <tbody>\n",
              "    <tr>\n",
              "      <td>0</td>\n",
              "      <td>0.745459</td>\n",
              "      <td>0.564914</td>\n",
              "      <td>0.780738</td>\n",
              "      <td>05:29</td>\n",
              "    </tr>\n",
              "  </tbody>\n",
              "</table>"
            ],
            "text/plain": [
              "<IPython.core.display.HTML object>"
            ]
          },
          "metadata": {
            "tags": []
          }
        },
        {
          "output_type": "display_data",
          "data": {
            "text/html": [
              "\n",
              "    <div>\n",
              "        <style>\n",
              "            /* Turns off some styling */\n",
              "            progress {\n",
              "                /* gets rid of default border in Firefox and Opera. */\n",
              "                border: none;\n",
              "                /* Needs to be in here for Safari polyfill so background images work as expected. */\n",
              "                background-size: auto;\n",
              "            }\n",
              "            .progress-bar-interrupted, .progress-bar-interrupted::-webkit-progress-bar {\n",
              "                background: #F44336;\n",
              "            }\n",
              "        </style>\n",
              "      <progress value='1' class='' max='2', style='width:300px; height:20px; vertical-align: middle;'></progress>\n",
              "      50.00% [1/2 13:18<13:18]\n",
              "    </div>\n",
              "    \n",
              "<table border=\"1\" class=\"dataframe\">\n",
              "  <thead>\n",
              "    <tr style=\"text-align: left;\">\n",
              "      <th>epoch</th>\n",
              "      <th>train_loss</th>\n",
              "      <th>valid_loss</th>\n",
              "      <th>accuracy</th>\n",
              "      <th>time</th>\n",
              "    </tr>\n",
              "  </thead>\n",
              "  <tbody>\n",
              "    <tr>\n",
              "      <td>0</td>\n",
              "      <td>0.667111</td>\n",
              "      <td>0.518752</td>\n",
              "      <td>0.796220</td>\n",
              "      <td>13:18</td>\n",
              "    </tr>\n",
              "  </tbody>\n",
              "</table><p>\n",
              "\n",
              "    <div>\n",
              "        <style>\n",
              "            /* Turns off some styling */\n",
              "            progress {\n",
              "                /* gets rid of default border in Firefox and Opera. */\n",
              "                border: none;\n",
              "                /* Needs to be in here for Safari polyfill so background images work as expected. */\n",
              "                background-size: auto;\n",
              "            }\n",
              "            .progress-bar-interrupted, .progress-bar-interrupted::-webkit-progress-bar {\n",
              "                background: #F44336;\n",
              "            }\n",
              "        </style>\n",
              "      <progress value='104' class='' max='320', style='width:300px; height:20px; vertical-align: middle;'></progress>\n",
              "      32.50% [104/320 03:35<07:28 0.6449]\n",
              "    </div>\n",
              "    "
            ],
            "text/plain": [
              "<IPython.core.display.HTML object>"
            ]
          },
          "metadata": {
            "tags": []
          }
        }
      ]
    },
    {
      "cell_type": "code",
      "metadata": {
        "id": "AZjopRdkY5LI",
        "colab_type": "code",
        "colab": {}
      },
      "source": [
        "import datetime\n",
        "now = datetime.datetime.now().strftime(\"%I_%M_%b_%d_%Y\")\n",
        "print(now)\n",
        "\n",
        "learner_lm.path = root_path + \"/\" + now + \"/model_lm\"\n",
        "learner_lm.export('export.pkl')\n",
        "learner_clas.path = root_path + \"/\" + now + \"/model_clas\"\n",
        "learner_clas.export('export.pkl')"
      ],
      "execution_count": 0,
      "outputs": []
    },
    {
      "cell_type": "code",
      "metadata": {
        "id": "rNjeQXuCaToV",
        "colab_type": "code",
        "colab": {}
      },
      "source": [
        "leaner_lm = load_learner(root_path + \"/\" + now + \"/model_lm\")\n",
        "leaner_clas = load_learner(root_path + \"/\" + now + \"/model_clas\")"
      ],
      "execution_count": 0,
      "outputs": []
    },
    {
      "cell_type": "markdown",
      "metadata": {
        "id": "kUOTBmZpIY0W",
        "colab_type": "text"
      },
      "source": [
        "Train model with Gradual unfreezing\n",
        "```\n",
        "https://towardsdatascience.com/understanding-language-modelling-nlp-part-1-ulmfit-b557a63a672b\n",
        "```"
      ]
    },
    {
      "cell_type": "code",
      "metadata": {
        "id": "vZzy__YKaTl9",
        "colab_type": "code",
        "colab": {}
      },
      "source": [
        ""
      ],
      "execution_count": 0,
      "outputs": []
    },
    {
      "cell_type": "code",
      "metadata": {
        "id": "Ld4kVLZn_KvI",
        "colab_type": "code",
        "colab": {}
      },
      "source": [
        ""
      ],
      "execution_count": 0,
      "outputs": []
    },
    {
      "cell_type": "code",
      "metadata": {
        "id": "MyoJf6mZ_KtT",
        "colab_type": "code",
        "colab": {}
      },
      "source": [
        ""
      ],
      "execution_count": 0,
      "outputs": []
    },
    {
      "cell_type": "code",
      "metadata": {
        "id": "Wi5_30dS-3Po",
        "colab_type": "code",
        "colab": {}
      },
      "source": [
        ""
      ],
      "execution_count": 0,
      "outputs": []
    },
    {
      "cell_type": "markdown",
      "metadata": {
        "id": "OxNQDsclI7NV",
        "colab_type": "text"
      },
      "source": [
        "TODO: Assessment of result"
      ]
    },
    {
      "cell_type": "markdown",
      "metadata": {
        "id": "3IREu8TUJAWN",
        "colab_type": "text"
      },
      "source": [
        "TODO\n",
        "```\n",
        "Now that I have a model, how can I be sure that I didn't introduce a bug in the code? If results are too good to be true, they probably are!\n",
        "\n",
        "What are some of the weaknesses of the model and and how can the model be improved with additional work?\n",
        "```"
      ]
    },
    {
      "cell_type": "markdown",
      "metadata": {
        "id": "pp4JCtwbKNjP",
        "colab_type": "text"
      },
      "source": [
        "# Future work"
      ]
    },
    {
      "cell_type": "code",
      "metadata": {
        "id": "LWMUkiwQ-3NR",
        "colab_type": "code",
        "colab": {}
      },
      "source": [
        ""
      ],
      "execution_count": 0,
      "outputs": []
    },
    {
      "cell_type": "markdown",
      "metadata": {
        "id": "6ePnUtQU9ARG",
        "colab_type": "text"
      },
      "source": [
        "# Negative Reason Prediction"
      ]
    },
    {
      "cell_type": "code",
      "metadata": {
        "id": "nYZhuJr57TNY",
        "colab_type": "code",
        "colab": {}
      },
      "source": [
        "X = df['text']\n",
        "y = df['negativereason']"
      ],
      "execution_count": 0,
      "outputs": []
    },
    {
      "cell_type": "code",
      "metadata": {
        "id": "P5XUkmOw7TKz",
        "colab_type": "code",
        "colab": {}
      },
      "source": [
        "X_train, X_test, y_train, y_test = train_test_split(X, y, test_size=0.3, random_state=42)"
      ],
      "execution_count": 0,
      "outputs": []
    },
    {
      "cell_type": "code",
      "metadata": {
        "id": "zEwtCt_mldLq",
        "colab_type": "code",
        "colab": {}
      },
      "source": [
        "data_lm, data_clas = construct_input(X, y, 0.3)"
      ],
      "execution_count": 0,
      "outputs": []
    },
    {
      "cell_type": "code",
      "metadata": {
        "id": "gmU-Oy-xldTM",
        "colab_type": "code",
        "colab": {}
      },
      "source": [
        "learner_lm = learn_language_model(data_lm)\n",
        "learner_clas = learn_classification_model(data_clas)"
      ],
      "execution_count": 0,
      "outputs": []
    },
    {
      "cell_type": "code",
      "metadata": {
        "id": "tbN2906eldRj",
        "colab_type": "code",
        "colab": {}
      },
      "source": [
        ""
      ],
      "execution_count": 0,
      "outputs": []
    },
    {
      "cell_type": "code",
      "metadata": {
        "id": "qIpCLU61ldPu",
        "colab_type": "code",
        "colab": {}
      },
      "source": [
        ""
      ],
      "execution_count": 0,
      "outputs": []
    }
  ]
}