{
  "nbformat": 4,
  "nbformat_minor": 0,
  "metadata": {
    "colab": {
      "name": "model",
      "provenance": [],
      "collapsed_sections": [],
      "toc_visible": true,
      "include_colab_link": true
    },
    "kernelspec": {
      "display_name": "Python 3",
      "name": "python3"
    }
  },
  "cells": [
    {
      "cell_type": "markdown",
      "metadata": {
        "id": "view-in-github",
        "colab_type": "text"
      },
      "source": [
        "<a href=\"https://colab.research.google.com/github/weiweitoo/airline-twitter-sentiment/blob/master/model.ipynb\" target=\"_parent\"><img src=\"https://colab.research.google.com/assets/colab-badge.svg\" alt=\"Open In Colab\"/></a>"
      ]
    },
    {
      "cell_type": "markdown",
      "metadata": {
        "id": "Zjab0JWkeGIt",
        "colab_type": "text"
      },
      "source": [
        "[![Open In Colab](https://colab.research.google.com/assets/colab-badge.svg)](https://colab.research.google.com/github/googlecolab/colabtools/blob/master/notebooks/colab-github-demo.ipynb)"
      ]
    },
    {
      "cell_type": "markdown",
      "metadata": {
        "id": "7FaLQztkiRIl",
        "colab_type": "text"
      },
      "source": [
        "# Setup"
      ]
    },
    {
      "cell_type": "code",
      "metadata": {
        "id": "AFaoGU6g0jNn",
        "colab_type": "code",
        "outputId": "d45874ea-5ab5-4f5c-a4fb-bc20e3452650",
        "colab": {
          "base_uri": "https://localhost:8080/",
          "height": 35
        }
      },
      "source": [
        "from google.colab import drive\n",
        "drive.mount('/content/drive')"
      ],
      "execution_count": 149,
      "outputs": [
        {
          "output_type": "stream",
          "text": [
            "Drive already mounted at /content/drive; to attempt to forcibly remount, call drive.mount(\"/content/drive\", force_remount=True).\n"
          ],
          "name": "stdout"
        }
      ]
    },
    {
      "cell_type": "code",
      "metadata": {
        "id": "2lsXt_DK0zwy",
        "colab_type": "code",
        "colab": {}
      },
      "source": [
        "# !pip install torch_nightly -f https://download.pytorch.org/whl/nightly/cu92/torch_nightly.html\n",
        "# !pip install fastai"
      ],
      "execution_count": 0,
      "outputs": []
    },
    {
      "cell_type": "code",
      "metadata": {
        "colab_type": "code",
        "id": "3VQqVi-3ScBC",
        "colab": {}
      },
      "source": [
        "import fastai\n",
        "from fastai import *\n",
        "from fastai.text import * \n",
        "import pandas as pd\n",
        "import numpy as np\n",
        "from functools import partial\n",
        "import io\n",
        "import os\n",
        "import matplotlib.pyplot as plt\n",
        "from sklearn.model_selection import train_test_split"
      ],
      "execution_count": 0,
      "outputs": []
    },
    {
      "cell_type": "code",
      "metadata": {
        "id": "6fjSeo7p0sOx",
        "colab_type": "code",
        "colab": {}
      },
      "source": [
        "root_path = \"drive/My Drive/Colab Notebooks/AirlineTweetSentiment\"\n",
        "df = pd.read_csv(root_path + \"/Tweets.csv\")"
      ],
      "execution_count": 0,
      "outputs": []
    },
    {
      "cell_type": "markdown",
      "metadata": {
        "id": "CocvmHv1iDOq",
        "colab_type": "text"
      },
      "source": [
        "# Data Preparation"
      ]
    },
    {
      "cell_type": "markdown",
      "metadata": {
        "id": "8_zqXJo3iM1z",
        "colab_type": "text"
      },
      "source": [
        "## Utils"
      ]
    },
    {
      "cell_type": "code",
      "metadata": {
        "id": "ID7zI6bmiEQj",
        "colab_type": "code",
        "colab": {}
      },
      "source": [
        "def plot_bar(dictionary, title):\n",
        "  plt.figure(figsize=(8,6))\n",
        "  plt.title(title)\n",
        "  bar_plot = plt.bar(range(len(dictionary)), list(dictionary.values()), align='center')\n",
        "  plt.xticks(range(len(dictionary)), list(dictionary.keys()), rotation=45)\n",
        "  plt.show()\n",
        "  return plt, bar_plot"
      ],
      "execution_count": 0,
      "outputs": []
    },
    {
      "cell_type": "markdown",
      "metadata": {
        "id": "KxrbqZ9-hwhb",
        "colab_type": "text"
      },
      "source": [
        "## Data Preparation for Sentiment Analysis"
      ]
    },
    {
      "cell_type": "code",
      "metadata": {
        "id": "ALJAx0VrZrnR",
        "colab_type": "code",
        "colab": {
          "base_uri": "https://localhost:8080/",
          "height": 35
        },
        "outputId": "0b4d1294-cec5-4a0a-b249-8f0a16d4fd22"
      },
      "source": [
        "total_data_size = df.shape[0]\n",
        "print(f'Total Size :{total_data_size}')"
      ],
      "execution_count": 154,
      "outputs": [
        {
          "output_type": "stream",
          "text": [
            "Total Size :14640\n"
          ],
          "name": "stdout"
        }
      ]
    },
    {
      "cell_type": "code",
      "metadata": {
        "id": "ISk5UvjUilmF",
        "colab_type": "code",
        "colab": {
          "base_uri": "https://localhost:8080/",
          "height": 179
        },
        "outputId": "c71390cc-1352-4e07-f1b5-2e163ded43b1"
      },
      "source": [
        "df['airline_sentiment_confidence'].describe()\n"
      ],
      "execution_count": 155,
      "outputs": [
        {
          "output_type": "execute_result",
          "data": {
            "text/plain": [
              "count    14640.000000\n",
              "mean         0.900169\n",
              "std          0.162830\n",
              "min          0.335000\n",
              "25%          0.692300\n",
              "50%          1.000000\n",
              "75%          1.000000\n",
              "max          1.000000\n",
              "Name: airline_sentiment_confidence, dtype: float64"
            ]
          },
          "metadata": {
            "tags": []
          },
          "execution_count": 155
        }
      ]
    },
    {
      "cell_type": "code",
      "metadata": {
        "id": "RI43P-VQ0srq",
        "colab_type": "code",
        "outputId": "b435152a-90ac-48fc-c1fd-acd06224618a",
        "colab": {
          "base_uri": "https://localhost:8080/",
          "height": 35
        }
      },
      "source": [
        "df = df[df['airline_sentiment_confidence'] > 0.67]\n",
        "confident_sentiment_size = df.shape[0]\n",
        "print(f'Confident Sentiment Data Size :{confident_sentiment_size}')"
      ],
      "execution_count": 156,
      "outputs": [
        {
          "output_type": "stream",
          "text": [
            "Confident Sentiment Data Size :12283\n"
          ],
          "name": "stdout"
        }
      ]
    },
    {
      "cell_type": "code",
      "metadata": {
        "id": "A1Bdxg4vT6qY",
        "colab_type": "code",
        "colab": {
          "base_uri": "https://localhost:8080/",
          "height": 418
        },
        "outputId": "5cbeb8bb-5055-46f4-a820-dc8a03d57f84"
      },
      "source": [
        "airline_sentiment = df['airline_sentiment'].value_counts()\n",
        "plt, bar_plot = plot_bar(airline_sentiment.to_dict(), \"Sentiment Distribution\")"
      ],
      "execution_count": 157,
      "outputs": [
        {
          "output_type": "display_data",
          "data": {
            "image/png": "[encoded data removed]",
            "text/plain": [
              "<Figure size 576x432 with 1 Axes>"
            ]
          },
          "metadata": {
            "tags": []
          }
        }
      ]
    },
    {
      "cell_type": "code",
      "metadata": {
        "id": "LIt7ZhpM8c_a",
        "colab_type": "code",
        "colab": {
          "base_uri": "https://localhost:8080/",
          "height": 89
        },
        "outputId": "f8fa0921-5ae4-4b1a-e9d7-06e65c05c60e"
      },
      "source": [
        "airline_sentiment"
      ],
      "execution_count": 161,
      "outputs": [
        {
          "output_type": "execute_result",
          "data": {
            "text/plain": [
              "negative    8201\n",
              "neutral     2201\n",
              "positive    1881\n",
              "Name: airline_sentiment, dtype: int64"
            ]
          },
          "metadata": {
            "tags": []
          },
          "execution_count": 161
        }
      ]
    },
    {
      "cell_type": "code",
      "metadata": {
        "id": "XMw_y_8N8dTu",
        "colab_type": "code",
        "colab": {}
      },
      "source": [
        ""
      ],
      "execution_count": 0,
      "outputs": []
    },
    {
      "cell_type": "code",
      "metadata": {
        "id": "MKDP7xKe8dR7",
        "colab_type": "code",
        "colab": {}
      },
      "source": [
        ""
      ],
      "execution_count": 0,
      "outputs": []
    },
    {
      "cell_type": "markdown",
      "metadata": {
        "id": "QpazeCOLh3WU",
        "colab_type": "text"
      },
      "source": [
        "## Data Preparation for Negative Reason"
      ]
    },
    {
      "cell_type": "code",
      "metadata": {
        "id": "bivzc6OuaIBl",
        "colab_type": "code",
        "colab": {
          "base_uri": "https://localhost:8080/",
          "height": 35
        },
        "outputId": "a29030f2-2b4f-4f4d-bb07-a51199984872"
      },
      "source": [
        "df_reason = df.dropna(subset=['negativereason'])\n",
        "print(f'Reason Data Size :{df_reason.shape[0]}')"
      ],
      "execution_count": 158,
      "outputs": [
        {
          "output_type": "stream",
          "text": [
            "Reason Data Size :8201\n"
          ],
          "name": "stdout"
        }
      ]
    },
    {
      "cell_type": "code",
      "metadata": {
        "id": "xWWHSVQ7i9ZY",
        "colab_type": "code",
        "colab": {
          "base_uri": "https://localhost:8080/",
          "height": 35
        },
        "outputId": "1bd5d42c-4e69-4684-eb4f-d346a3267710"
      },
      "source": [
        "df_reason = df_reason[df_reason['negativereason_confidence'] > 0.67]\n",
        "print(f'Confident Reason Data Size :{df_reason.shape[0]}')"
      ],
      "execution_count": 159,
      "outputs": [
        {
          "output_type": "stream",
          "text": [
            "Confident Reason Data Size :5341\n"
          ],
          "name": "stdout"
        }
      ]
    },
    {
      "cell_type": "code",
      "metadata": {
        "id": "YvAuf2eRT6oU",
        "colab_type": "code",
        "colab": {
          "base_uri": "https://localhost:8080/",
          "height": 684
        },
        "outputId": "bd516819-e2c4-40b9-dd5c-66f03fb3a23a"
      },
      "source": [
        "negative_reason = df_reason['negativereason'].value_counts().to_dict()\n",
        "plot_bar(negative_reason, \"Negative Reason Distribution\")\n",
        "df_reason['negativereason'].value_counts()"
      ],
      "execution_count": 160,
      "outputs": [
        {
          "output_type": "display_data",
          "data": {
            "image/png": "[encoded data removed]",
            "text/plain": [
              "<Figure size 576x432 with 1 Axes>"
            ]
          },
          "metadata": {
            "tags": []
          }
        },
        {
          "output_type": "execute_result",
          "data": {
            "text/plain": [
              "Customer Service Issue         1900\n",
              "Late Flight                    1079\n",
              "Cancelled Flight                546\n",
              "Lost Luggage                    511\n",
              "Can't Tell                      477\n",
              "Bad Flight                      268\n",
              "Flight Attendant Complaints     232\n",
              "Flight Booking Problems         211\n",
              "longlines                        72\n",
              "Damaged Luggage                  45\n",
              "Name: negativereason, dtype: int64"
            ]
          },
          "metadata": {
            "tags": []
          },
          "execution_count": 160
        }
      ]
    },
    {
      "cell_type": "code",
      "metadata": {
        "id": "WLqeF6XPZdsS",
        "colab_type": "code",
        "colab": {}
      },
      "source": [
        ""
      ],
      "execution_count": 0,
      "outputs": []
    },
    {
      "cell_type": "code",
      "metadata": {
        "id": "k6HPOGn2hlNr",
        "colab_type": "code",
        "colab": {}
      },
      "source": [
        ""
      ],
      "execution_count": 0,
      "outputs": []
    },
    {
      "cell_type": "code",
      "metadata": {
        "id": "w-aAYeHyhlLa",
        "colab_type": "code",
        "colab": {}
      },
      "source": [
        ""
      ],
      "execution_count": 0,
      "outputs": []
    },
    {
      "cell_type": "markdown",
      "metadata": {
        "id": "RdhBp8D2lDRw",
        "colab_type": "text"
      },
      "source": [
        "# Sentiment Analysis Training"
      ]
    },
    {
      "cell_type": "code",
      "metadata": {
        "id": "3ozSF496_Im7",
        "colab_type": "code",
        "colab": {}
      },
      "source": [
        "def construct_input(X, y, test_size):\n",
        "  X_train, X_test, y_train, y_test = train_test_split(X, y, test_size=test_size, random_state=42)\n",
        "  col_names = ['labels','text']\n",
        "  df_trn = pd.DataFrame({'text':X_train, 'labels':y_train}, columns=col_names)\n",
        "  df_val = pd.DataFrame({'text':X_test, 'labels':y_test}, columns=col_names)\n",
        "  data_lm = TextLMDataBunch.from_df('./', train_df=df_trn, valid_df=df_val)\n",
        "  data_clas = TextClasDataBunch.from_df(path = \"./\", train_df = df_trn, valid_df = df_val, vocab=data_lm.train_ds.vocab, bs=32)\n",
        "  data_lm.save('tmp_lm')\n",
        "  data_clas.save('tmp_clas')\n",
        "  return data_lm, data_clas\n",
        "\n",
        "def learn_language_model(data_lm):\n",
        "  learn = language_model_learner(data_lm, AWD_LSTM, drop_mult=0.5)\n",
        "  learn.freeze_to(-2)\n",
        "  learn.fit_one_cycle(1, slice(2e-3/100, 2e-3))\n",
        "  learn.save_encoder(\"ft_enc\")\n",
        "  return learn\n",
        "\n",
        "def learn_classification_model(data_clas):\n",
        "  learn = text_classifier_learner(data_clas, AWD_LSTM, drop_mult=0.5)\n",
        "  learn.load_encoder('ft_enc')\n",
        "  learn.freeze_to(-2)\n",
        "  learn.fit_one_cycle(1, slice(2e-3/100, 2e-3))\n",
        "  return learn"
      ],
      "execution_count": 0,
      "outputs": []
    },
    {
      "cell_type": "code",
      "metadata": {
        "id": "YwlPlkLf_IrM",
        "colab_type": "code",
        "outputId": "12e17f89-0269-4050-f45e-7b7b50a7c2fd",
        "colab": {
          "base_uri": "https://localhost:8080/",
          "height": 17
        }
      },
      "source": [
        "X = df_high_confident['text']\n",
        "y = df_high_confident['airline_sentiment']\n",
        "data_lm, data_clas = construct_input(X, y, 0.3)"
      ],
      "execution_count": 166,
      "outputs": [
        {
          "output_type": "display_data",
          "data": {
            "text/html": [
              ""
            ],
            "text/plain": [
              "<IPython.core.display.HTML object>"
            ]
          },
          "metadata": {
            "tags": []
          }
        },
        {
          "output_type": "display_data",
          "data": {
            "text/html": [
              ""
            ],
            "text/plain": [
              "<IPython.core.display.HTML object>"
            ]
          },
          "metadata": {
            "tags": []
          }
        },
        {
          "output_type": "display_data",
          "data": {
            "text/html": [
              ""
            ],
            "text/plain": [
              "<IPython.core.display.HTML object>"
            ]
          },
          "metadata": {
            "tags": []
          }
        },
        {
          "output_type": "display_data",
          "data": {
            "text/html": [
              ""
            ],
            "text/plain": [
              "<IPython.core.display.HTML object>"
            ]
          },
          "metadata": {
            "tags": []
          }
        }
      ]
    },
    {
      "cell_type": "code",
      "metadata": {
        "id": "XmFzanmbY5Nb",
        "colab_type": "code",
        "outputId": "f02a36ba-d4cb-4cea-dadb-5c416acd53c6",
        "colab": {
          "base_uri": "https://localhost:8080/",
          "height": 114
        }
      },
      "source": [
        "learner_lm = learn_language_model(data_lm)\n",
        "learner_clas = learn_classification_model(data_clas)"
      ],
      "execution_count": 0,
      "outputs": [
        {
          "output_type": "stream",
          "text": [
            "Downloading https://s3.amazonaws.com/fast-ai-modelzoo/wt103-fwd\n"
          ],
          "name": "stdout"
        },
        {
          "output_type": "display_data",
          "data": {
            "text/html": [
              ""
            ],
            "text/plain": [
              "<IPython.core.display.HTML object>"
            ]
          },
          "metadata": {
            "tags": []
          }
        },
        {
          "output_type": "display_data",
          "data": {
            "text/html": [
              "\n",
              "    <div>\n",
              "        <style>\n",
              "            /* Turns off some styling */\n",
              "            progress {\n",
              "                /* gets rid of default border in Firefox and Opera. */\n",
              "                border: none;\n",
              "                /* Needs to be in here for Safari polyfill so background images work as expected. */\n",
              "                background-size: auto;\n",
              "            }\n",
              "            .progress-bar-interrupted, .progress-bar-interrupted::-webkit-progress-bar {\n",
              "                background: #F44336;\n",
              "            }\n",
              "        </style>\n",
              "      <progress value='0' class='' max='1', style='width:300px; height:20px; vertical-align: middle;'></progress>\n",
              "      0.00% [0/1 00:00<00:00]\n",
              "    </div>\n",
              "    \n",
              "<table border=\"1\" class=\"dataframe\">\n",
              "  <thead>\n",
              "    <tr style=\"text-align: left;\">\n",
              "      <th>epoch</th>\n",
              "      <th>train_loss</th>\n",
              "      <th>valid_loss</th>\n",
              "      <th>accuracy</th>\n",
              "      <th>time</th>\n",
              "    </tr>\n",
              "  </thead>\n",
              "  <tbody>\n",
              "  </tbody>\n",
              "</table><p>\n",
              "\n",
              "    <div>\n",
              "        <style>\n",
              "            /* Turns off some styling */\n",
              "            progress {\n",
              "                /* gets rid of default border in Firefox and Opera. */\n",
              "                border: none;\n",
              "                /* Needs to be in here for Safari polyfill so background images work as expected. */\n",
              "                background-size: auto;\n",
              "            }\n",
              "            .progress-bar-interrupted, .progress-bar-interrupted::-webkit-progress-bar {\n",
              "                background: #F44336;\n",
              "            }\n",
              "        </style>\n",
              "      <progress value='11' class='' max='48', style='width:300px; height:20px; vertical-align: middle;'></progress>\n",
              "      22.92% [11/48 01:26<04:51 6.3703]\n",
              "    </div>\n",
              "    "
            ],
            "text/plain": [
              "<IPython.core.display.HTML object>"
            ]
          },
          "metadata": {
            "tags": []
          }
        }
      ]
    },
    {
      "cell_type": "code",
      "metadata": {
        "id": "AZjopRdkY5LI",
        "colab_type": "code",
        "colab": {}
      },
      "source": [
        "learner_lm.export('')"
      ],
      "execution_count": 0,
      "outputs": []
    },
    {
      "cell_type": "code",
      "metadata": {
        "id": "rNjeQXuCaToV",
        "colab_type": "code",
        "colab": {}
      },
      "source": [
        ""
      ],
      "execution_count": 0,
      "outputs": []
    },
    {
      "cell_type": "code",
      "metadata": {
        "id": "vZzy__YKaTl9",
        "colab_type": "code",
        "colab": {}
      },
      "source": [
        ""
      ],
      "execution_count": 0,
      "outputs": []
    },
    {
      "cell_type": "markdown",
      "metadata": {
        "id": "6ePnUtQU9ARG",
        "colab_type": "text"
      },
      "source": [
        "# Negative Reason Prediction"
      ]
    },
    {
      "cell_type": "code",
      "metadata": {
        "id": "nYZhuJr57TNY",
        "colab_type": "code",
        "colab": {}
      },
      "source": [
        "X = df['text']\n",
        "y = df['negativereason']"
      ],
      "execution_count": 0,
      "outputs": []
    },
    {
      "cell_type": "code",
      "metadata": {
        "id": "P5XUkmOw7TKz",
        "colab_type": "code",
        "colab": {}
      },
      "source": [
        "X_train, X_test, y_train, y_test = train_test_split(X, y, test_size=0.3, random_state=42)"
      ],
      "execution_count": 0,
      "outputs": []
    },
    {
      "cell_type": "code",
      "metadata": {
        "id": "zEwtCt_mldLq",
        "colab_type": "code",
        "colab": {}
      },
      "source": [
        "data_lm, data_clas = construct_input(X, y, 0.3)"
      ],
      "execution_count": 0,
      "outputs": []
    },
    {
      "cell_type": "code",
      "metadata": {
        "id": "gmU-Oy-xldTM",
        "colab_type": "code",
        "colab": {}
      },
      "source": [
        "learner_lm = learn_language_model(data_lm)\n",
        "learner_clas = learn_classification_model(data_clas)"
      ],
      "execution_count": 0,
      "outputs": []
    },
    {
      "cell_type": "code",
      "metadata": {
        "id": "tbN2906eldRj",
        "colab_type": "code",
        "colab": {}
      },
      "source": [
        ""
      ],
      "execution_count": 0,
      "outputs": []
    },
    {
      "cell_type": "code",
      "metadata": {
        "id": "qIpCLU61ldPu",
        "colab_type": "code",
        "colab": {}
      },
      "source": [
        ""
      ],
      "execution_count": 0,
      "outputs": []
    }
  ]
}